{
 "cells": [
  {
   "cell_type": "code",
   "execution_count": 1,
   "id": "62d2ee41",
   "metadata": {},
   "outputs": [],
   "source": [
    "from sklearn.datasets import make_friedman1\n",
    "from sklearn.model_selection import train_test_split\n",
    "from sklearn.metrics import r2_score"
   ]
  },
  {
   "cell_type": "code",
   "execution_count": 2,
   "id": "e184b064",
   "metadata": {},
   "outputs": [],
   "source": [
    "from sa_forest import (\n",
    "    SAFParams,\n",
    "    SelfAttentionForest,\n",
    "    ForestKind,\n",
    "    TaskType,\n",
    ")"
   ]
  },
  {
   "cell_type": "code",
   "execution_count": 3,
   "id": "af4e7c5c",
   "metadata": {},
   "outputs": [],
   "source": [
    "data = make_friedman1(200, random_state=12345)\n",
    "X_train, X_test, y_train, y_test = train_test_split(*data, test_size=0.5, random_state=12345)"
   ]
  },
  {
   "cell_type": "code",
   "execution_count": 4,
   "id": "2417b8ff",
   "metadata": {},
   "outputs": [],
   "source": [
    "model = SelfAttentionForest(\n",
    "    SAFParams(\n",
    "        kind=ForestKind.EXTRA,\n",
    "        task=TaskType.REGRESSION,\n",
    "        eps=0.9,\n",
    "        tau=1.0,\n",
    "        gamma=0.9,\n",
    "        sa_tau=1.0,\n",
    "        sa_dist='y',\n",
    "        forest=dict(\n",
    "            n_estimators=200,\n",
    "            max_depth=None,\n",
    "            min_samples_leaf=5,\n",
    "            random_state=12345,\n",
    "        ),\n",
    "    )\n",
    ")"
   ]
  },
  {
   "cell_type": "code",
   "execution_count": 5,
   "id": "0c15e936",
   "metadata": {},
   "outputs": [],
   "source": [
    "model.fit(X_train, y_train)"
   ]
  },
  {
   "cell_type": "code",
   "execution_count": 6,
   "id": "18fa40ca",
   "metadata": {},
   "outputs": [
    {
     "data": {
      "text/plain": [
       "<sa_forest.model.SelfAttentionForest at 0x11fada040>"
      ]
     },
     "execution_count": 6,
     "metadata": {},
     "output_type": "execute_result"
    }
   ],
   "source": [
    "model.optimize_weights(X_train, y_train)"
   ]
  },
  {
   "cell_type": "code",
   "execution_count": 7,
   "id": "afa4ba2a",
   "metadata": {},
   "outputs": [],
   "source": [
    "results = {\n",
    "    \"Original R2\": r2_score(y_test, model.predict_original(X_test)),\n",
    "    \"After optimization R2\": r2_score(y_test, model.predict(X_test)),\n",
    "}"
   ]
  },
  {
   "cell_type": "code",
   "execution_count": 8,
   "id": "6541d0f2",
   "metadata": {},
   "outputs": [
    {
     "name": "stdout",
     "output_type": "stream",
     "text": [
      "              Original R2: 0.6943020209481943\n",
      "    After optimization R2: 0.735162061976173\n"
     ]
    }
   ],
   "source": [
    "print('\\n'.join(map(lambda x: f'{x[0]:>25}: {x[1]}', results.items())))"
   ]
  },
  {
   "cell_type": "code",
   "execution_count": null,
   "id": "2f6ed77a",
   "metadata": {},
   "outputs": [],
   "source": []
  },
  {
   "cell_type": "code",
   "execution_count": null,
   "id": "cce4c588",
   "metadata": {},
   "outputs": [],
   "source": []
  }
 ],
 "metadata": {
  "kernelspec": {
   "display_name": "attention-forest",
   "language": "python",
   "name": "attention-forest"
  },
  "language_info": {
   "codemirror_mode": {
    "name": "ipython",
    "version": 3
   },
   "file_extension": ".py",
   "mimetype": "text/x-python",
   "name": "python",
   "nbconvert_exporter": "python",
   "pygments_lexer": "ipython3",
   "version": "3.9.7"
  }
 },
 "nbformat": 4,
 "nbformat_minor": 5
}
